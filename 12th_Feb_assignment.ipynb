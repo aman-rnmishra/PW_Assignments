{
 "cells": [
  {
   "cell_type": "markdown",
   "id": "f9b72ee4-9ec4-42c9-ba2c-21107f0a4814",
   "metadata": {},
   "source": [
    "# 12th Feb Assignment"
   ]
  },
  {
   "cell_type": "markdown",
   "id": "48e0b77b-0bb8-4410-adfb-44d9946b456c",
   "metadata": {},
   "source": [
    "### Q1.What is an exception in python? write the difference between exceptions and syntax errors"
   ]
  },
  {
   "cell_type": "markdown",
   "id": "869a46da-435e-42d8-b0de-bfef46f14e8a",
   "metadata": {},
   "source": [
    "In Python, an exception is an error that occurs during the execution of a program that disrupts the normal flow of code. Exceptions are objects that represent errors, and they are raised by the Python interpreter when it encounters an error condition.\n",
    "\n",
    "Syntax errors, on the other hand, are errors that occur during the parsing of the code, before the code is executed. They are caused by invalid syntax, such as a missing colon or a misspelled keyword.\n",
    "\n",
    "The main difference between exceptions and syntax errors is that syntax errors are detected by the Python interpreter during the parsing of the code, while exceptions are detected at runtime when the code is actually executed. Another difference is that syntax errors always result in the termination of the program, while exceptions can be caught and handled by the code."
   ]
  },
  {
   "cell_type": "markdown",
   "id": "9bced928-9162-4316-9c19-aa5de63b8d18",
   "metadata": {},
   "source": [
    "### Q2.What happens if an exception is not handled? Explain with an example"
   ]
  },
  {
   "cell_type": "markdown",
   "id": "ac8b121f-c274-4a88-8123-04eef64bb8ae",
   "metadata": {},
   "source": [
    "If an exception is not handled, the program will terminate and display an error message that includes a traceback, which is a list of the function calls that led to the exception. This can make it difficult to identify the source of the error and can cause the program to behave unpredictably."
   ]
  },
  {
   "cell_type": "code",
   "execution_count": 14,
   "id": "3f7b24e0-42b7-480a-ad13-fd91c2a03ae4",
   "metadata": {},
   "outputs": [
    {
     "ename": "ZeroDivisionError",
     "evalue": "division by zero",
     "output_type": "error",
     "traceback": [
      "\u001b[0;31m---------------------------------------------------------------------------\u001b[0m",
      "\u001b[0;31mZeroDivisionError\u001b[0m                         Traceback (most recent call last)",
      "Cell \u001b[0;32mIn[14], line 4\u001b[0m\n\u001b[1;32m      1\u001b[0m \u001b[38;5;66;03m# Here's an example that illustrates what happens when an exception is not handled:\u001b[39;00m\n\u001b[1;32m      3\u001b[0m \u001b[38;5;28;01mtry\u001b[39;00m:\n\u001b[0;32m----> 4\u001b[0m     x \u001b[38;5;241m=\u001b[39m \u001b[38;5;241;43m1\u001b[39;49m\u001b[43m \u001b[49m\u001b[38;5;241;43m/\u001b[39;49m\u001b[43m \u001b[49m\u001b[38;5;241;43m0\u001b[39;49m\n\u001b[1;32m      5\u001b[0m \u001b[38;5;28;01mexcept\u001b[39;00m \u001b[38;5;167;01mValueError\u001b[39;00m:\n\u001b[1;32m      6\u001b[0m     \u001b[38;5;28mprint\u001b[39m(\u001b[38;5;124m'\u001b[39m\u001b[38;5;124mCaught a ValueError\u001b[39m\u001b[38;5;124m'\u001b[39m)\n",
      "\u001b[0;31mZeroDivisionError\u001b[0m: division by zero"
     ]
    }
   ],
   "source": [
    "# Here's an example that illustrates what happens when an exception is not handled:\n",
    "\n",
    "try:\n",
    "    x = 1 / 0\n",
    "except ValueError:\n",
    "    print('Caught a ValueError')"
   ]
  },
  {
   "cell_type": "markdown",
   "id": "575bca74-9d5d-4d6b-a23f-a8155ae97ff4",
   "metadata": {},
   "source": [
    "In this example, an exception is raised when trying to divide by zero, but the except block is designed to catch a ValueError instead of the actual exception (ZeroDivisionError). Since the exception is not handled, the program will terminate and display an error message"
   ]
  },
  {
   "cell_type": "markdown",
   "id": "e476bd1f-53db-4953-a167-a351a4ac1e90",
   "metadata": {},
   "source": [
    "### Q3. Which python statements are used to catch and handle exceptions? Explain with an example"
   ]
  },
  {
   "cell_type": "markdown",
   "id": "23245ab7-27e2-4c98-8326-cbffc077bb2a",
   "metadata": {},
   "source": [
    "In Python, the try and except statements are used to catch and handle exceptions. The try block contains the code that might raise an exception, and the except block contains the code that should be executed if an exception is raised."
   ]
  },
  {
   "cell_type": "code",
   "execution_count": 3,
   "id": "195d20c5-0d04-436b-a86b-fc09bf2e4c5c",
   "metadata": {},
   "outputs": [
    {
     "name": "stdin",
     "output_type": "stream",
     "text": [
      "Enter a number 10\n",
      "Enter a number 0\n"
     ]
    },
    {
     "name": "stdout",
     "output_type": "stream",
     "text": [
      "Denominator cannot be zero\n"
     ]
    }
   ],
   "source": [
    "num = int(input(\"Enter a number\"))\n",
    "deno = int(input(\"Enter a number\"))\n",
    "try:\n",
    "    quo = num/deno\n",
    "    print(\"Quotient : \", quo)\n",
    "except ZeroDivisionError:\n",
    "    print(\"Denominator cannot be zero\")"
   ]
  },
  {
   "cell_type": "markdown",
   "id": "3ce5890b-1f3b-4e68-af16-930fefaf9bac",
   "metadata": {},
   "source": [
    "### Q4. Explain with an example\n",
    "1. try and else\n",
    "2. finally\n",
    "3. raise"
   ]
  },
  {
   "cell_type": "code",
   "execution_count": 5,
   "id": "77ee4495-c3de-4788-8096-5323a411d022",
   "metadata": {},
   "outputs": [
    {
     "name": "stdin",
     "output_type": "stream",
     "text": [
      "Enter a number:  10\n",
      "Enter another number:  2\n"
     ]
    },
    {
     "name": "stdout",
     "output_type": "stream",
     "text": [
      "10 / 2 = 5.0\n"
     ]
    }
   ],
   "source": [
    "# 1. try and else\n",
    "\n",
    "try:\n",
    "    x = int(input('Enter a number: '))\n",
    "    y = int(input('Enter another number: '))\n",
    "except ValueError:\n",
    "    print('Error: invalid input')\n",
    "else:\n",
    "    result = x / y\n",
    "    print(f'{x} / {y} = {result}')\n"
   ]
  },
  {
   "cell_type": "code",
   "execution_count": null,
   "id": "f4fc17d7-87bb-42dd-80a4-e2a546ca0ba1",
   "metadata": {},
   "outputs": [],
   "source": [
    "# 2. Finally\n",
    "\n",
    "try:\n",
    "    f = open('example.txt', 'r')\n",
    "    # do something with the file\n",
    "finally:\n",
    "    f.close()\n",
    "    print(\"File is closed\")\n",
    "    \n",
    "## In this example, the try block opens a file for reading, and the finally block ensures that the file is always closed, even if an exception is raised during the execution of the try block."
   ]
  },
  {
   "cell_type": "markdown",
   "id": "d8d366a1-c0bb-4df9-a719-02112d13bb0a",
   "metadata": {},
   "source": [
    "raise:\n",
    "In Python, the raise statement is used to raise an exception manually. You can use raise to signal that an error has occurred in your code, even if there is no built-in exception that describes the error. Here's an example:"
   ]
  },
  {
   "cell_type": "code",
   "execution_count": 9,
   "id": "8b4e39b6-af68-4359-b4ef-e380119e59bf",
   "metadata": {},
   "outputs": [],
   "source": [
    "def divide(x, y):\n",
    "    if y == 0:\n",
    "        raise ZeroDivisionError('Cannot divide by zero')\n",
    "    return x / y\n"
   ]
  },
  {
   "cell_type": "markdown",
   "id": "1a7716ba-23a4-4452-ad91-ba05279d7d4b",
   "metadata": {},
   "source": [
    "### Q5. What are custom exceptions in python? Why do we need custom exceptions? Explain wth an example"
   ]
  },
  {
   "cell_type": "code",
   "execution_count": 10,
   "id": "55359934-c94c-45ca-84ee-2a513617ea2f",
   "metadata": {},
   "outputs": [
    {
     "name": "stdin",
     "output_type": "stream",
     "text": [
      "Enter a number :  100\n"
     ]
    },
    {
     "name": "stdout",
     "output_type": "stream",
     "text": [
      "Great you succeeded...\n"
     ]
    }
   ],
   "source": [
    "class ValueTooSmallError(Exception):\n",
    "    def display(self):\n",
    "        print(\"Input value is too small\")\n",
    "class ValueTooLargeError(Exception):\n",
    "    def display(self):\n",
    "        print(\"Input value is too large\")\n",
    "max = 100\n",
    "while True:\n",
    "    try:\n",
    "        num = int(input(\"Enter a number : \"))\n",
    "        if num == max :\n",
    "            print(\"Great you succeeded...\")\n",
    "            break\n",
    "        elif num < max:\n",
    "            raise ValueTooSmallError\n",
    "        elif num>max :\n",
    "            raise ValueTooLargeError\n",
    "            \n",
    "    except ValueTooSmallError as s:\n",
    "        s.display()\n",
    "    except ValueTooLargeError as l:\n",
    "        l.display()"
   ]
  },
  {
   "cell_type": "markdown",
   "id": "15e9bb7f-3ada-4b26-82e7-c98c1c0ab1ac",
   "metadata": {},
   "source": [
    "### Q6. Create a custom exception class. Use this to handle an exception"
   ]
  },
  {
   "cell_type": "code",
   "execution_count": 13,
   "id": "584ec996-c995-45ea-8f9b-7f50b364469c",
   "metadata": {},
   "outputs": [
    {
     "name": "stdin",
     "output_type": "stream",
     "text": [
      "Enter your name:  Aman\n",
      "Enter your age :  17\n"
     ]
    },
    {
     "name": "stdout",
     "output_type": "stream",
     "text": [
      "Sorry !!! Age cannot be below 18....you cannot vote\n"
     ]
    }
   ],
   "source": [
    "class InvalidAgeError(Exception):\n",
    "    def display(self):\n",
    "        print(\"Sorry !!! Age cannot be below 18....you cannot vote\")\n",
    "class InvalidNameError(Exception):\n",
    "    def display(self):\n",
    "        print(\"Please Enter a valid name\")\n",
    "        \n",
    "try:\n",
    "    name = input(\"Enter your name: \")\n",
    "    if len(name)==0:\n",
    "        raise InvalidAgeError\n",
    "    age = int(input(\"Enter your age : \"))\n",
    "    if age< 18 :\n",
    "        raise InvalidAgeError\n",
    "        \n",
    "except InvalidNameError as s:\n",
    "    s.display()\n",
    "except InvalidAgeError as m:\n",
    "    m.display()\n",
    "else:\n",
    "    print(\"Congrats!!! you can Vote\")"
   ]
  },
  {
   "cell_type": "code",
   "execution_count": null,
   "id": "ee504073-f0ac-4f7a-97c9-3bc0fc2ec4ac",
   "metadata": {},
   "outputs": [],
   "source": []
  }
 ],
 "metadata": {
  "kernelspec": {
   "display_name": "Python 3 (ipykernel)",
   "language": "python",
   "name": "python3"
  },
  "language_info": {
   "codemirror_mode": {
    "name": "ipython",
    "version": 3
   },
   "file_extension": ".py",
   "mimetype": "text/x-python",
   "name": "python",
   "nbconvert_exporter": "python",
   "pygments_lexer": "ipython3",
   "version": "3.10.8"
  }
 },
 "nbformat": 4,
 "nbformat_minor": 5
}
