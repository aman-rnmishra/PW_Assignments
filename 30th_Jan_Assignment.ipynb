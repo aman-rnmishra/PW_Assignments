{
 "cells": [
  {
   "cell_type": "markdown",
   "id": "f7d61af3-a2cb-47b6-a8aa-ef1681a6282d",
   "metadata": {},
   "source": [
    "# Assignment- 30th Jan"
   ]
  },
  {
   "cell_type": "markdown",
   "id": "0e85243f-68a4-45be-966c-334026477396",
   "metadata": {},
   "source": [
    "<H3> 1. Write a program to accept percentage from the user and display the grade according to the following </H3>"
   ]
  },
  {
   "cell_type": "code",
   "execution_count": 4,
   "id": "d1232475-1204-4f8d-ab65-03f0c1d0ef19",
   "metadata": {},
   "outputs": [
    {
     "name": "stdin",
     "output_type": "stream",
     "text": [
      "Enter you percentage 66\n"
     ]
    },
    {
     "name": "stdout",
     "output_type": "stream",
     "text": [
      "You achieved Grade C\n"
     ]
    }
   ],
   "source": [
    "percentage = float(input(\"Enter you percentage\"))\n",
    "\n",
    "if percentage > 90:\n",
    "    print(\"You achieved Grade A\")\n",
    "elif percentage >80 and percentage <=90:\n",
    "    print(\"You achieved Grade B\")\n",
    "elif percentage >=60 and percentage <=80:\n",
    "    print(\"You achieved Grade C\")\n",
    "else :\n",
    "    print(\"You achieved Grade D\")"
   ]
  },
  {
   "cell_type": "markdown",
   "id": "a1e0fe06-6b77-4101-ac2a-2391bfdacf87",
   "metadata": {},
   "source": [
    "<H3> 2. Write a program to accept the cost price of a bike and display the road tax to be paid according to the following criteria : </H3>"
   ]
  },
  {
   "cell_type": "code",
   "execution_count": 7,
   "id": "d57c351b-3051-4110-934e-ef84831fec0f",
   "metadata": {},
   "outputs": [
    {
     "name": "stdin",
     "output_type": "stream",
     "text": [
      "Enter the Cost Price of the Bike 50000\n"
     ]
    },
    {
     "name": "stdout",
     "output_type": "stream",
     "text": [
      "Road Tax appicalble is 5%\n"
     ]
    }
   ],
   "source": [
    "cost_price = float(input(\"Enter the Cost Price of the Bike\"))\n",
    "\n",
    "if cost_price > 100000:\n",
    "    print(\"Road Tax appicalble is 15%\")\n",
    "elif cost_price >50000 and cost_price <=100000:\n",
    "    print(\"Road Tax appicalble is 10%\")\n",
    "else :\n",
    "    print(\"Road Tax appicalble is 5%\")"
   ]
  },
  {
   "cell_type": "markdown",
   "id": "4f8879e8-9c93-4d2b-8e55-b4474456f35b",
   "metadata": {},
   "source": [
    "<H3> 3. Accept any city from the user and display monuments of that city </H3>"
   ]
  },
  {
   "cell_type": "code",
   "execution_count": 17,
   "id": "b72781f8-410d-4181-b18f-121b057976ed",
   "metadata": {},
   "outputs": [
    {
     "name": "stdin",
     "output_type": "stream",
     "text": [
      "Enter the City Name Agra\n"
     ]
    },
    {
     "name": "stdout",
     "output_type": "stream",
     "text": [
      "Monument is Taj Mahal\n"
     ]
    }
   ],
   "source": [
    "city_name = input(\"Enter the City Name\")\n",
    "\n",
    "if city_name == 'Delhi' :\n",
    "    print(\"Monument is Red Fort\")\n",
    "elif city_name == 'Agra' :\n",
    "    print(\"Monument is Taj Mahal\")\n",
    "elif city_name == 'Jaipur' :\n",
    "    print(\"Monument is Jal Mahal\")"
   ]
  },
  {
   "cell_type": "markdown",
   "id": "505d7583-8f4b-4bd8-9937-e8a8a96c3e02",
   "metadata": {},
   "source": [
    "<H3>4. Check how many times a given number can be divided by 3 before it is less than or equal to 10</H3>"
   ]
  },
  {
   "cell_type": "code",
   "execution_count": 30,
   "id": "8a52252d-5a98-431e-819c-332204bb8261",
   "metadata": {},
   "outputs": [
    {
     "name": "stdin",
     "output_type": "stream",
     "text": [
      "Enter a number:  209083\n"
     ]
    },
    {
     "name": "stdout",
     "output_type": "stream",
     "text": [
      "The number can be divided by 3 10 times before it becomes less than or equal to 10.\n"
     ]
    }
   ],
   "source": [
    "num = int(input(\"Enter a number: \"))\n",
    "counter = 0\n",
    "\n",
    "while num > 10:\n",
    "    num = num / 3\n",
    "    counter += 1\n",
    "    if num <= 10:\n",
    "        break\n",
    "\n",
    "print(\"The number can be divided by 3\", counter, \"times before it becomes less than or equal to 10.\")\n"
   ]
  },
  {
   "cell_type": "markdown",
   "id": "7b69ef52-e89d-4232-8887-f1886a66ac2f",
   "metadata": {},
   "source": [
    "### 5. Why and When to use while loop in python give a detailed description with example"
   ]
  },
  {
   "cell_type": "markdown",
   "id": "8fe202af-5b38-4eb0-adc9-3b3f66f3883b",
   "metadata": {},
   "source": [
    "Ans : Python while loop is used to run a block code until a certain condition is met.\n",
    "While loop is used to repeat a specific block of code an unknown number of times, until a condition is met."
   ]
  },
  {
   "cell_type": "code",
   "execution_count": 2,
   "id": "c361135a-24f3-4064-ae86-6dafcfa163fe",
   "metadata": {},
   "outputs": [
    {
     "name": "stdout",
     "output_type": "stream",
     "text": [
      "1\n",
      "2\n",
      "3\n",
      "4\n",
      "5\n"
     ]
    }
   ],
   "source": [
    "# program to display numbers from 1 to 5 using while loop\n",
    "i = 1\n",
    "n = 5\n",
    "while i <= n:\n",
    "    print(i)\n",
    "    i = i + 1"
   ]
  },
  {
   "cell_type": "markdown",
   "id": "6b1655ac-c0ec-4681-af85-981f9dea1f10",
   "metadata": {},
   "source": [
    "### 6. Use nested while loop to print 3 different pattern "
   ]
  },
  {
   "cell_type": "code",
   "execution_count": 12,
   "id": "ee57e95a-7009-46be-9464-bb5682813eca",
   "metadata": {},
   "outputs": [
    {
     "name": "stdout",
     "output_type": "stream",
     "text": [
      "*\n",
      "**\n",
      "***\n",
      "****\n",
      "*****\n",
      "******\n",
      "*******\n"
     ]
    }
   ],
   "source": [
    "# 1. program to print right trianlge\n",
    "\n",
    "number = 7 #number of rows\n",
    "\n",
    "index = 1  #variable to store the index\n",
    "\n",
    "# while loop to iterate till number value\n",
    "while index <= number:\n",
    "  print('*' * index) # print stars respective to each index\n",
    "  index += 1 # increment the index by 1 after each iteration\n",
    "\n",
    "# output:\n",
    "# *\n",
    "# **\n",
    "# ***\n",
    "# ****\n",
    "# *****\n",
    "# ******\n",
    "# *******\n"
   ]
  },
  {
   "cell_type": "code",
   "execution_count": 13,
   "id": "9dd74d3d-b09a-4332-b84a-078dc906b853",
   "metadata": {},
   "outputs": [
    {
     "name": "stdin",
     "output_type": "stream",
     "text": [
      "Enter number of rows:  8\n"
     ]
    },
    {
     "name": "stdout",
     "output_type": "stream",
     "text": [
      "********\n",
      "*******\n",
      "******\n",
      "*****\n",
      "****\n",
      "***\n",
      "**\n",
      "*\n"
     ]
    }
   ],
   "source": [
    "# program to print reverse right trianle\n",
    "\n",
    "\n",
    "n=int(input(\"Enter number of rows: \")) #input from the user to use number of rows\n",
    "i=n\n",
    "while i>=1: #controls the number of rows\n",
    "    j=1\n",
    "    while j<=i: #controls the number of * to print\n",
    "        print(\"*\",end=\"\")\n",
    "        j=j+1\n",
    "    print(\"\")\n",
    "    i=i-1 "
   ]
  },
  {
   "cell_type": "code",
   "execution_count": 15,
   "id": "54722e57-2dac-4652-8b20-7e2788f932b9",
   "metadata": {},
   "outputs": [
    {
     "name": "stdin",
     "output_type": "stream",
     "text": [
      "Enter number of rows:  8\n"
     ]
    },
    {
     "name": "stdout",
     "output_type": "stream",
     "text": [
      "********\n",
      "*******\n",
      "******\n",
      "*****\n",
      "****\n",
      "***\n",
      "**\n",
      "*\n"
     ]
    }
   ],
   "source": [
    "# program to print reverse right trianle\n",
    "\n",
    "\n",
    "n=int(input(\"Enter number of rows: \")) #input from the user to use number of rows\n",
    "i=n\n",
    "while i>=1: #controls the number of rows\n",
    "    j=1\n",
    "    while j<=i: #controls the number of * to print\n",
    "        print(\"*\",end=\"\")\n",
    "        j=j+1\n",
    "    print(\"\")\n",
    "    i=i-1 "
   ]
  },
  {
   "cell_type": "markdown",
   "id": "7c860ffc-15d6-4935-837f-76aeddab7275",
   "metadata": {},
   "source": [
    "#program to print rectangle using while loop by taking user input\n",
    "\n",
    "height = int(input(\"Enter the height of the rectangle: \"))\n",
    "width = int(input(\"Enter the width of the rectangle: \"))\n",
    "row = 1\n",
    "while row <= height:\n",
    "    col = 1\n",
    "    while col <= width:\n",
    "        print(\"*\", end=\"\")\n",
    "        col += 1\n",
    "    print()\n",
    "    row += 1"
   ]
  },
  {
   "cell_type": "markdown",
   "id": "99fc521d-c41c-4196-a599-55765da719b7",
   "metadata": {},
   "source": [
    "### 7. Reverse a while loop to display numbers from 10 to 1"
   ]
  },
  {
   "cell_type": "code",
   "execution_count": 26,
   "id": "ad90ebe6-e5b1-4c54-a066-85be48499d36",
   "metadata": {},
   "outputs": [
    {
     "data": {
      "text/plain": [
       "[10, 9, 8, 7, 6, 5, 4, 3, 2, 1]"
      ]
     },
     "execution_count": 26,
     "metadata": {},
     "output_type": "execute_result"
    }
   ],
   "source": [
    "list(range(10,0,-1))"
   ]
  },
  {
   "cell_type": "code",
   "execution_count": 1,
   "id": "4ce734e9-2e8b-4aac-a6fd-8ad5b0f87a74",
   "metadata": {},
   "outputs": [
    {
     "name": "stdout",
     "output_type": "stream",
     "text": [
      "10\n",
      "9\n",
      "8\n",
      "7\n",
      "6\n",
      "5\n",
      "4\n",
      "3\n",
      "2\n",
      "1\n"
     ]
    }
   ],
   "source": [
    "i = 10\n",
    "while i > 0:\n",
    "    print(i)\n",
    "    i = i - 1"
   ]
  },
  {
   "cell_type": "markdown",
   "id": "ff5c3abc-3f00-4a11-a14d-b76cf57435c2",
   "metadata": {},
   "source": [
    "### 8. Reverse a while loop to display numbers from 10 to 1"
   ]
  },
  {
   "cell_type": "code",
   "execution_count": 3,
   "id": "1a4614c7-8367-473f-a007-39e0e60a54c3",
   "metadata": {},
   "outputs": [
    {
     "name": "stdout",
     "output_type": "stream",
     "text": [
      "10\n",
      "9\n",
      "8\n",
      "7\n",
      "6\n",
      "5\n",
      "4\n",
      "3\n",
      "2\n",
      "1\n"
     ]
    }
   ],
   "source": [
    "i = 10\n",
    "while i > 0:\n",
    "    print(i)\n",
    "    i = i - 1"
   ]
  },
  {
   "cell_type": "code",
   "execution_count": null,
   "id": "13166f6d-dd79-488b-b665-0f81d0e1bab4",
   "metadata": {},
   "outputs": [],
   "source": []
  }
 ],
 "metadata": {
  "kernelspec": {
   "display_name": "Python 3 (ipykernel)",
   "language": "python",
   "name": "python3"
  },
  "language_info": {
   "codemirror_mode": {
    "name": "ipython",
    "version": 3
   },
   "file_extension": ".py",
   "mimetype": "text/x-python",
   "name": "python",
   "nbconvert_exporter": "python",
   "pygments_lexer": "ipython3",
   "version": "3.10.8"
  }
 },
 "nbformat": 4,
 "nbformat_minor": 5
}
