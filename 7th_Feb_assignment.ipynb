{
 "cells": [
  {
   "cell_type": "markdown",
   "id": "06b74b5d-e90c-4bf8-8ea3-03aa78af664e",
   "metadata": {},
   "source": [
    "# 7th Feb assignment"
   ]
  },
  {
   "cell_type": "markdown",
   "id": "66c04232-3539-4d5c-bc9f-83bd58d2964e",
   "metadata": {
    "tags": []
   },
   "source": [
    "### Q1. You are writing code for a company. The requirement of the company is that you create a python function that will check whether the password entered by the user is correct or not. The function should take the password as input and return the string “Valid Password” if the entered password follows the below-given password guidelines else it should return “Invalid Password”.\n",
    "\n",
    "\n",
    "### Note: 1. The Password should contain at least two uppercase letters and at least two lowercase letters.\n",
    "\n",
    "2. The Password should contain at least a number and three special characters.\n",
    "\n",
    "3. The length of the password should be 10 characters long"
   ]
  },
  {
   "cell_type": "code",
   "execution_count": 2,
   "id": "7db46e89-c147-43a7-a129-f472d0db4a83",
   "metadata": {},
   "outputs": [
    {
     "name": "stdin",
     "output_type": "stream",
     "text": [
      "Enter password:  LDzb5@#$hg\n"
     ]
    },
    {
     "name": "stdout",
     "output_type": "stream",
     "text": [
      "Valid Password\n"
     ]
    }
   ],
   "source": [
    "import re\n",
    "\n",
    "def check_password(password):\n",
    "    if (len(password) != 10):\n",
    "        return \"Invalid Password\"\n",
    "    elif not re.search(\"[a-z].*[a-z].*\", password) or not re.search(\"[A-Z].*[A-Z].*\", password):\n",
    "        return \"Invalid Password\"\n",
    "    elif not re.search(\"[0-9]\", password):\n",
    "        return \"Invalid Password\"\n",
    "    elif not re.search(\"[!@#$%^&*()_+,-./:;<=>?@[\\]^_`{|}~].*[!@#$%^&*()_+,-./:;<=>?@[\\]^_`{|}~].*[!@#$%^&*()_+,-./:;<=>?@[\\]^_`{|}~].*\", password):\n",
    "        return \"Invalid Password\"\n",
    "    else:\n",
    "        return \"Valid Password\"\n",
    "\n",
    "password = input(\"Enter password: \")\n",
    "print(check_password(password))"
   ]
  },
  {
   "cell_type": "markdown",
   "id": "511b3429-357c-419b-8684-0d9d0fa4d448",
   "metadata": {},
   "source": [
    "###  Solve the below-given questions using at least one of the following: \n",
    "\n",
    "1. Lambda function\n",
    "2. Filter function\n",
    "3. Zap function\n",
    "4. List Comprehension\n",
    "\n",
    " Check if the string starts with a particular letter\n",
    " \n",
    " Check if the string is numeric\n",
    " \n",
    " Sort a list of tuples having fruit names and their quantity. [(\"mango\",99),(\"orange\",80), (\"grapes\", 1000)]\n",
    " \n",
    " Find the squares of numbers from 1 to 10\n",
    " \n",
    " Find the cube root of numbers from 1 to 10\n",
    " \n",
    " Check if a given number is even\n",
    " \n",
    " Filter odd numbers from the given list.\n",
    "\n",
    "[1,2,3,4,5,6,7,8,9,10-\n",
    "Sort a list of integers into positive and negative integers lists.\n",
    "\n",
    "[1,2,3,4,5,6,-1,-2,-3,-4,-5,0]"
   ]
  },
  {
   "cell_type": "code",
   "execution_count": 3,
   "id": "0080415a-c997-4cda-ad1a-7714c1a58f2d",
   "metadata": {},
   "outputs": [
    {
     "name": "stdout",
     "output_type": "stream",
     "text": [
      "['apple']\n"
     ]
    }
   ],
   "source": [
    "def check_start_letter(string, letter):\n",
    "    return True if string[0] == letter else False\n",
    "\n",
    "strings = [\"apple\", \"banana\", \"cherry\"]\n",
    "letter = 'a'\n",
    "\n",
    "result = filter(lambda x: check_start_letter(x, letter), strings)\n",
    "print(list(result))\n"
   ]
  },
  {
   "cell_type": "code",
   "execution_count": 4,
   "id": "36eb4890-96fd-4a38-9d37-4b418d740c54",
   "metadata": {},
   "outputs": [
    {
     "name": "stdout",
     "output_type": "stream",
     "text": [
      "['123', '456']\n"
     ]
    }
   ],
   "source": [
    "def check_numeric(string):\n",
    "    return string.isdigit()\n",
    "\n",
    "strings = [\"123\", \"456\", \"abc\"]\n",
    "\n",
    "result = filter(check_numeric, strings)\n",
    "print(list(result))\n"
   ]
  },
  {
   "cell_type": "code",
   "execution_count": 5,
   "id": "a9c67262-2fd3-4411-9800-98d548f9aa88",
   "metadata": {},
   "outputs": [
    {
     "name": "stdout",
     "output_type": "stream",
     "text": [
      "[('orange', 80), ('mango', 99), ('grapes', 1000)]\n"
     ]
    }
   ],
   "source": [
    "fruits = [(\"mango\", 99), (\"orange\", 80), (\"grapes\", 1000)]\n",
    "\n",
    "result = sorted(fruits, key=lambda x: x[1])\n",
    "print(result)\n"
   ]
  },
  {
   "cell_type": "code",
   "execution_count": 6,
   "id": "2496afd4-70a8-4a27-a308-c872aae9fdc1",
   "metadata": {},
   "outputs": [
    {
     "name": "stdout",
     "output_type": "stream",
     "text": [
      "[1, 4, 9, 16, 25, 36, 49, 64, 81, 100]\n"
     ]
    }
   ],
   "source": [
    "numbers = [1, 2, 3, 4, 5, 6, 7, 8, 9, 10]\n",
    "\n",
    "result = list(map(lambda x: x**2, numbers))\n",
    "print(result)\n"
   ]
  },
  {
   "cell_type": "code",
   "execution_count": 7,
   "id": "30af3c65-413d-4d53-a9bc-0e29af9db2fd",
   "metadata": {},
   "outputs": [
    {
     "name": "stdout",
     "output_type": "stream",
     "text": [
      "[1.0, 1.2599210498948732, 1.4422495703074083, 1.5874010519681994, 1.7099759466766968, 1.8171205928321397, 1.912931182772389, 2.0, 2.080083823051904, 2.154434690031884]\n"
     ]
    }
   ],
   "source": [
    "import math\n",
    "\n",
    "numbers = [1, 2, 3, 4, 5, 6, 7, 8, 9, 10]\n",
    "\n",
    "result = list(map(lambda x: math.pow(x, 1/3), numbers))\n",
    "print(result)\n"
   ]
  },
  {
   "cell_type": "code",
   "execution_count": 8,
   "id": "48f0711a-80a1-48c7-9da4-bdab64eb0b82",
   "metadata": {},
   "outputs": [
    {
     "name": "stdout",
     "output_type": "stream",
     "text": [
      "[2, 4, 6, 8, 10]\n"
     ]
    }
   ],
   "source": [
    "def check_even(number):\n",
    "    return True if number % 2 == 0 else False\n",
    "\n",
    "numbers = [1, 2, 3, 4, 5, 6, 7, 8, 9, 10]\n",
    "\n",
    "result = list(filter(check_even, numbers))\n",
    "print(result)\n"
   ]
  },
  {
   "cell_type": "code",
   "execution_count": 9,
   "id": "d167d17e-03c6-4de6-b360-42bc51583528",
   "metadata": {},
   "outputs": [
    {
     "name": "stdout",
     "output_type": "stream",
     "text": [
      "[1, 3, 5, 7, 9]\n"
     ]
    }
   ],
   "source": [
    "numbers = [1, 2, 3, 4, 5, 6, 7, 8, 9, 10]\n",
    "\n",
    "result = list(filter(lambda x: x % 2 != 0, numbers))\n",
    "print(result)\n"
   ]
  },
  {
   "cell_type": "code",
   "execution_count": 10,
   "id": "84129d7f-20cd-44d9-ac90-ef8d2feb6d01",
   "metadata": {},
   "outputs": [
    {
     "name": "stdout",
     "output_type": "stream",
     "text": [
      "Positive numbers: [1, 2, 3, 4, 5, 6]\n",
      "Negative numbers: [-1, -2, -3, -4, -5]\n"
     ]
    }
   ],
   "source": [
    "numbers = [1, 2, 3, 4, 5, 6, -1, -2, -3, -4, -5, 0]\n",
    "\n",
    "positive = list(filter(lambda x: x > 0, numbers))\n",
    "negative = list(filter(lambda x: x < 0, numbers))\n",
    "\n",
    "print(\"Positive numbers:\", positive)\n",
    "print(\"Negative numbers:\", negative)\n"
   ]
  },
  {
   "cell_type": "code",
   "execution_count": null,
   "id": "1d7cae85-fec1-4733-942c-62c09c4a969c",
   "metadata": {},
   "outputs": [],
   "source": []
  }
 ],
 "metadata": {
  "kernelspec": {
   "display_name": "Python 3 (ipykernel)",
   "language": "python",
   "name": "python3"
  },
  "language_info": {
   "codemirror_mode": {
    "name": "ipython",
    "version": 3
   },
   "file_extension": ".py",
   "mimetype": "text/x-python",
   "name": "python",
   "nbconvert_exporter": "python",
   "pygments_lexer": "ipython3",
   "version": "3.10.8"
  }
 },
 "nbformat": 4,
 "nbformat_minor": 5
}
