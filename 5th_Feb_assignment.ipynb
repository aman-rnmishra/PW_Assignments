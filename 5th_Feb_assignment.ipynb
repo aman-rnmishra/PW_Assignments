{
 "cells": [
  {
   "cell_type": "markdown",
   "id": "e2a7b003-e759-471f-a463-c69b6ad28736",
   "metadata": {},
   "source": [
    "# 5th Feb Assignment"
   ]
  },
  {
   "cell_type": "markdown",
   "id": "48363826-cc99-4863-bf23-cdc29be76d35",
   "metadata": {},
   "source": [
    "### Q1. Explain Class and Object with respect to Object-Oriented Programming. Give a suitable example."
   ]
  },
  {
   "cell_type": "markdown",
   "id": "1031063a-78cb-4c93-be81-b593bce1c8b1",
   "metadata": {},
   "source": [
    "Class: A class in Object-Oriented Programming is a blueprint or template that defines the variables and methods common to objects of a certain kind.\n",
    "\n",
    "Object: An object is an instance of a class, created at runtime, which has its own state and behavior. Objects are also known as instances.\n",
    "\n",
    "Example:\n",
    "Consider a class \"Person\" with variables like name, age, and methods like speak, walk. A specific person, say \"John\", is an object of the class \"Person\". The object \"John\" will have its own values for the variables name and age, and can use the methods speak and walk defined in the class."
   ]
  },
  {
   "cell_type": "markdown",
   "id": "431556f4-5f47-45f0-9f95-e06c0de98f96",
   "metadata": {},
   "source": [
    "### Q2. Name the four pillars of OOPs."
   ]
  },
  {
   "cell_type": "markdown",
   "id": "f482fb4f-b322-4a30-8272-ca09fb94a44e",
   "metadata": {},
   "source": [
    "Abstraction: The process of hiding the implementation details and showing only the necessary information to the user.\n",
    "\n",
    "Encapsulation: The technique of wrapping data and functions within an object, protecting the object's internal state from external interference.\n",
    "\n",
    "Inheritance: The mechanism of obtaining the properties and characteristics of a class from another class, creating a hierarchy of classes.\n",
    "\n",
    "Polymorphism: The ability of an object to take on multiple forms, providing a single interface for different implementations."
   ]
  },
  {
   "cell_type": "markdown",
   "id": "09b5c462-8378-47e7-b69c-e95037af6d22",
   "metadata": {},
   "source": [
    "### Q3. Explain why the __init__() function is used. Give a suitable example."
   ]
  },
  {
   "cell_type": "markdown",
   "id": "682a9f8a-3046-4879-a664-c261c563b73c",
   "metadata": {},
   "source": [
    "The __init__() function is used in Python classes to initialize the objects of a class. It is a special method in Python classes and is automatically called when an object of the class is created. The __init__() function is used to set the initial state of an object.\n",
    "\n",
    "Example:\n",
    "Consider a class \"Person\" with variables like name, age, and methods like speak, walk. The __init__() function can be used to initialize the values of the variables name and age when an object of the class is created."
   ]
  },
  {
   "cell_type": "code",
   "execution_count": 5,
   "id": "63e08ce4-c822-47f7-9323-415008c37046",
   "metadata": {},
   "outputs": [
    {
     "name": "stdout",
     "output_type": "stream",
     "text": [
      "Hello, my name is John\n",
      "John is walking.\n"
     ]
    }
   ],
   "source": [
    "class Person:\n",
    "    def __init__(self, name, age):\n",
    "        self.name = name\n",
    "        self.age = age\n",
    "        \n",
    "    def speak(self):\n",
    "        print(f\"Hello, my name is {self.name}\")\n",
    "        \n",
    "    def walk(self):\n",
    "        print(f\"{self.name} is walking.\")\n",
    "\n",
    "person = Person(\"John\", 30)\n",
    "person.speak() \n",
    "person.walk()\n"
   ]
  },
  {
   "cell_type": "markdown",
   "id": "fa1573ab-a7ec-4109-ae9f-d3168103447a",
   "metadata": {},
   "source": [
    "### Q4. Why self is used in OOPs?"
   ]
  },
  {
   "cell_type": "markdown",
   "id": "49cf1d77-844a-4edb-9e2b-bc180a2dbc81",
   "metadata": {},
   "source": [
    "In Object-Oriented Programming (OOP), self is a reference to the instance of the object on which a method is being called. In Python, the self keyword is used as the first parameter in an instance method definition to refer to the instance of the object on which the method is called. The self parameter is used to access the attributes and methods of the class within the method.\n",
    "\n",
    "Using self helps distinguish the instance variables and methods from local variables and methods, as well as from variables and methods in other classes. This allows for creating multiple instances of a class, each with its own unique state and behavior."
   ]
  },
  {
   "cell_type": "markdown",
   "id": "1af09743-8578-4b87-a600-c6ffc63a3cb6",
   "metadata": {},
   "source": [
    "### Q5. What is inheritance? Give an example for each type of inheritance."
   ]
  },
  {
   "cell_type": "markdown",
   "id": "43c86e69-56be-4a41-991f-2045d16667c4",
   "metadata": {},
   "source": [
    "Inheritance is a mechanism in Object-Oriented Programming (OOP) that allows a new class to be derived from an existing class. The derived class inherits all the attributes and behaviors of the base class, and can also add new attributes and behaviors of its own.\n",
    "\n",
    "There are several types of inheritance in OOP, including:\n",
    "\n",
    "Single Inheritance: A derived class inherits from a single base class.\n",
    "\n",
    "Example:"
   ]
  },
  {
   "cell_type": "code",
   "execution_count": 2,
   "id": "c755d8e6-2d3f-471c-b58c-5ea60970ceeb",
   "metadata": {},
   "outputs": [
    {
     "name": "stdout",
     "output_type": "stream",
     "text": [
      "Fido makes a sound.\n",
      "Fido barks.\n"
     ]
    }
   ],
   "source": [
    "class Animal:\n",
    "    def __init__(self, name):\n",
    "        self.name = name\n",
    "        \n",
    "    def speak(self):\n",
    "        print(f\"{self.name} makes a sound.\")\n",
    "        \n",
    "class Dog(Animal):\n",
    "    def __init__(self, name, breed):\n",
    "        Animal.__init__(self, name)\n",
    "        self.breed = breed\n",
    "        \n",
    "    def bark(self):\n",
    "        print(f\"{self.name} barks.\")\n",
    "\n",
    "dog = Dog(\"Fido\", \"Labrador\")\n",
    "dog.speak() # Output: Fido makes a sound.\n",
    "dog.bark() # Output: Fido barks.\n"
   ]
  },
  {
   "cell_type": "markdown",
   "id": "0f06cb56-52ec-4e0f-9d1b-fd887c0eff44",
   "metadata": {},
   "source": [
    "### Multi-level Inheritance: A derived class inherits from a base class, which in turn inherits from another base class."
   ]
  },
  {
   "cell_type": "code",
   "execution_count": 3,
   "id": "ccdcb442-aa27-445e-a06f-f58998eb9e32",
   "metadata": {},
   "outputs": [
    {
     "name": "stdout",
     "output_type": "stream",
     "text": [
      "Fido makes a sound.\n",
      "Fido barks.\n",
      "Fido plays with ball.\n"
     ]
    }
   ],
   "source": [
    "class Animal:\n",
    "    def __init__(self, name):\n",
    "        self.name = name\n",
    "        \n",
    "    def speak(self):\n",
    "        print(f\"{self.name} makes a sound.\")\n",
    "        \n",
    "class Canine(Animal):\n",
    "    def __init__(self, name, breed):\n",
    "        Animal.__init__(self, name)\n",
    "        self.breed = breed\n",
    "        \n",
    "    def bark(self):\n",
    "        print(f\"{self.name} barks.\")\n",
    "        \n",
    "class Dog(Canine):\n",
    "    def __init__(self, name, breed, toy):\n",
    "        Canine.__init__(self, name, breed)\n",
    "        self.toy = toy\n",
    "        \n",
    "    def play(self):\n",
    "        print(f\"{self.name} plays with {self.toy}.\")\n",
    "\n",
    "dog = Dog(\"Fido\", \"Labrador\", \"ball\")\n",
    "dog.speak() # Output: Fido makes a sound.\n",
    "dog.bark() # Output: Fido barks.\n",
    "dog.play() # Output: Fido plays with ball.\n"
   ]
  },
  {
   "cell_type": "markdown",
   "id": "8377e8e7-2ff7-4b46-aa2d-68660d74d70c",
   "metadata": {},
   "source": [
    "### Multiple Inheritance: A derived class inherits from multiple base classes."
   ]
  },
  {
   "cell_type": "code",
   "execution_count": 7,
   "id": "a56c05ff-cb3e-40c1-9889-943ae5cf1347",
   "metadata": {},
   "outputs": [
    {
     "name": "stdout",
     "output_type": "stream",
     "text": [
      "Fido makes a sound.\n",
      "Labrador barks.\n",
      "Fido plays with ball.\n"
     ]
    }
   ],
   "source": [
    "class Animal:\n",
    "    def __init__(self, name):\n",
    "        self.name = name\n",
    "        \n",
    "    def speak(self):\n",
    "        print(f\"{self.name} makes a sound.\")\n",
    "        \n",
    "class Canine:\n",
    "    def __init__(self, breed):\n",
    "        self.breed = breed\n",
    "        \n",
    "    def bark(self):\n",
    "        print(f\"{self.breed} barks.\")\n",
    "        \n",
    "class Dog(Animal, Canine):\n",
    "    def __init__(self, name, breed, toy):\n",
    "        Animal.__init__(self, name)\n",
    "        Canine.__init__(self, breed)\n",
    "        self.toy = toy\n",
    "        \n",
    "    def play(self):\n",
    "        print(f\"{self.name} plays with {self.toy}.\")\n",
    "\n",
    "dog = Dog(\"Fido\", \"Labrador\", \"ball\")\n",
    "dog.speak() # Output: Fido makes a sound.\n",
    "dog.bark() # Output: Labrador barks.\n",
    "dog.play() # Output: Fido plays with ball.\n"
   ]
  },
  {
   "cell_type": "code",
   "execution_count": null,
   "id": "e8473e01-16ac-40c9-a2e9-7b411ef165a8",
   "metadata": {},
   "outputs": [],
   "source": []
  }
 ],
 "metadata": {
  "kernelspec": {
   "display_name": "Python 3 (ipykernel)",
   "language": "python",
   "name": "python3"
  },
  "language_info": {
   "codemirror_mode": {
    "name": "ipython",
    "version": 3
   },
   "file_extension": ".py",
   "mimetype": "text/x-python",
   "name": "python",
   "nbconvert_exporter": "python",
   "pygments_lexer": "ipython3",
   "version": "3.10.8"
  }
 },
 "nbformat": 4,
 "nbformat_minor": 5
}
