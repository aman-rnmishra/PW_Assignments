{
 "cells": [
  {
   "cell_type": "markdown",
   "id": "3ae19920-6dcc-4b22-9617-4d6049d92265",
   "metadata": {},
   "source": [
    "# 6th Feb assignment"
   ]
  },
  {
   "cell_type": "markdown",
   "id": "ddf07946-13e9-4720-a56c-be5abb89ccc3",
   "metadata": {},
   "source": [
    "### Q1. Create a function which will take a list as an argument and return the product of all the numbers after creating a flat list.\n",
    "\n",
    "### Use the below-given list as an argument for your function.\n",
    "\n",
    "\n",
    "### list1 = [1,2,3,4, [44,55,66, True], False, (34,56,78,89,34), {1,2,3,3,2,1}, {1:34, \"key2\": [55, 67, 78, 89], 4: (45, 22, 61, 34)}, [56, 'data science'], 'Machine Learning']\n",
    "\n",
    "\n",
    "### Note: you must extract numeric keys and values of the dictionary also."
   ]
  },
  {
   "cell_type": "code",
   "execution_count": 1,
   "id": "ce40dd0d-97c6-46b3-aafa-add1644f8d6c",
   "metadata": {},
   "outputs": [
    {
     "name": "stdout",
     "output_type": "stream",
     "text": [
      "0\n"
     ]
    }
   ],
   "source": [
    "def extract_integers(lst):\n",
    "    integers = []\n",
    "    for element in lst:\n",
    "        if isinstance(element, int):\n",
    "            integers.append(element)\n",
    "        elif isinstance(element, list):\n",
    "            nested_integers = extract_integers(element)\n",
    "            integers.extend(nested_integers)\n",
    "        elif isinstance(element, tuple):\n",
    "            integers.extend([i for i in element if isinstance(i, int)])\n",
    "        elif isinstance(element, dict):\n",
    "            for key, value in element.items():\n",
    "                if isinstance(key, int):\n",
    "                    integers.append(key)\n",
    "                if isinstance(value, int):\n",
    "                    integers.append(value)\n",
    "                elif isinstance(value, list):\n",
    "                    nested_integers = extract_integers(value)\n",
    "                    integers.extend(nested_integers)\n",
    "    return integers\n",
    "\n",
    "def product_of_integers(lst):\n",
    "    integers = extract_integers(lst)\n",
    "    product = 1\n",
    "    for i in integers:\n",
    "        product *= i\n",
    "    return product\n",
    "\n",
    "list1 = [1,2,3,4, [44,55,66, True], False, (34,56,78,89,34), {1,2,3,3,2,1}, {1:34, \"key2\": [55, 67, 78, 89], 4: (45, 22, 61, 34)}, [56, 'data science'], 'Machine Learning']\n",
    "result = product_of_integers(list1)\n",
    "print(result)"
   ]
  },
  {
   "cell_type": "markdown",
   "id": "a5a1f9a3-0cbb-4fc5-902d-e514126dc4d5",
   "metadata": {},
   "source": [
    "### Q2. Write a python program for encrypting a message sent to you by your friend. The logic of encryption should be such that, for a the output should be z. For b, the output should be y. For c, the output should be x respectively. Also, the whitespace should be replaced with a dollar sign. Keep the punctuation marks unchanged.\n",
    "\n",
    "\n",
    "### Input Sentence: I want to become a Data Scientist.\n",
    "\n",
    "\n",
    "### Encrypt the above input sentence using the program you just created.\n",
    "\n",
    "\n",
    "### Note: Convert the given input sentence into lowercase before encrypting. The final output should be lowercase"
   ]
  },
  {
   "cell_type": "code",
   "execution_count": 3,
   "id": "98a67d41-27e0-4f68-a522-13a9b31abf22",
   "metadata": {},
   "outputs": [
    {
     "name": "stdout",
     "output_type": "stream",
     "text": [
      "r$dzmg$gl$yvxlnv$z$wzgz$hxrvmgrhg.\n"
     ]
    }
   ],
   "source": [
    "def encrypt_message(message):\n",
    "    alphabet = \"abcdefghijklmnopqrstuvwxyz\"\n",
    "    encrypted_message = \"\"\n",
    "    message = message.lower()\n",
    "    \n",
    "    for char in message:\n",
    "        if char in alphabet:\n",
    "            index = alphabet.index(char)\n",
    "            encrypted_message += alphabet[25-index]\n",
    "        elif char == \" \":\n",
    "            encrypted_message += \"$\"\n",
    "        else:\n",
    "            encrypted_message += char\n",
    "    \n",
    "    return encrypted_message\n",
    "\n",
    "message = \"I want to become a Data Scientist.\"\n",
    "encrypted_message = encrypt_message(message)\n",
    "print(encrypted_message)"
   ]
  },
  {
   "cell_type": "code",
   "execution_count": null,
   "id": "bee0a984-a5eb-4ac7-b7c1-4d506fb687fa",
   "metadata": {},
   "outputs": [],
   "source": []
  }
 ],
 "metadata": {
  "kernelspec": {
   "display_name": "Python 3 (ipykernel)",
   "language": "python",
   "name": "python3"
  },
  "language_info": {
   "codemirror_mode": {
    "name": "ipython",
    "version": 3
   },
   "file_extension": ".py",
   "mimetype": "text/x-python",
   "name": "python",
   "nbconvert_exporter": "python",
   "pygments_lexer": "ipython3",
   "version": "3.10.8"
  }
 },
 "nbformat": 4,
 "nbformat_minor": 5
}
