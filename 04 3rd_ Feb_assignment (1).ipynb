{
 "cells": [
  {
   "cell_type": "markdown",
   "id": "1f5d6fe9-4065-4b9f-9617-6bd0301cf6a8",
   "metadata": {},
   "source": [
    "# 3rd Feb Assignment"
   ]
  },
  {
   "cell_type": "markdown",
   "id": "df58816e-c7e2-4f63-ba57-f3da2e0f03e7",
   "metadata": {},
   "source": [
    "### Q1. Which keyword is used to create a function? Create a function to return a list of odd numbers in the range of 1 to 25.\n"
   ]
  },
  {
   "cell_type": "markdown",
   "id": "2e1ba2d0-300e-4828-9b58-a49e235a8d97",
   "metadata": {},
   "source": [
    "\"def\" keyword is used to create a function"
   ]
  },
  {
   "cell_type": "code",
   "execution_count": 6,
   "id": "0b879997-c859-40b5-99cf-e90b229f6cb1",
   "metadata": {},
   "outputs": [],
   "source": [
    "def odd():\n",
    "    odd_numbers = []\n",
    "    for i in range(1,26):\n",
    "        if i % 2 != 0:\n",
    "            odd_numbers.append(i)\n",
    "    return odd_numbers\n"
   ]
  },
  {
   "cell_type": "code",
   "execution_count": 19,
   "id": "e19bcfc0-425b-48cf-9b3b-f95b8b8d1b4c",
   "metadata": {},
   "outputs": [
    {
     "data": {
      "text/plain": [
       "[1, 3, 5, 7, 9, 11, 13, 15, 17, 19, 21, 23, 25]"
      ]
     },
     "execution_count": 19,
     "metadata": {},
     "output_type": "execute_result"
    }
   ],
   "source": [
    "odd()"
   ]
  },
  {
   "cell_type": "markdown",
   "id": "2ce0f368-acda-444e-b394-fed3fd2bf6ed",
   "metadata": {},
   "source": [
    "### Q2. Why *args and **kwargs is used in some functions? Create a function each for *args and **kwargs to demonstrate their use.\n"
   ]
  },
  {
   "cell_type": "markdown",
   "id": "c7f7267c-7d1e-42b3-ac2d-82c705983ec0",
   "metadata": {},
   "source": [
    "*args and **kwargs are used in functions to allow them to accept a variable number of arguments.\n",
    "\n",
    "*args is used to send a non-keyworded variable length argument list to the function.\n",
    "**kwargs allows you to pass keyworded variable length of arguments to a function."
   ]
  },
  {
   "cell_type": "code",
   "execution_count": null,
   "id": "d5cc8313-cdc7-4515-8a5d-5b6ea2941a08",
   "metadata": {},
   "outputs": [],
   "source": [
    "# Exmaple for '*args'\n",
    "\n",
    "def print_args(*args):\n",
    "    print(args)\n"
   ]
  },
  {
   "cell_type": "code",
   "execution_count": 20,
   "id": "de9dbab4-daa2-441a-b1e6-d25be5d00254",
   "metadata": {},
   "outputs": [],
   "source": [
    "# Example for '**kwargs'\n",
    "\n",
    "def print_kwargs(**kwargs):\n",
    "    print(kwargs)\n"
   ]
  },
  {
   "cell_type": "markdown",
   "id": "5b8f4c6c-2471-4d70-8eb4-a284a5db6a15",
   "metadata": {},
   "source": [
    "### Q3. What is an iterator in python? Name the method used to initialise the iterator object and the method used for iteration. Use these methods to print the first five elements of the given list [2, 4, 6, 8, 10, 12, 14,16, 18, 20]."
   ]
  },
  {
   "cell_type": "markdown",
   "id": "50f2cc77-7ebb-486e-a30c-ccaca0109ec1",
   "metadata": {},
   "source": [
    "An iterator in Python is an object that implements the iterator protocol, which consists of two methods: __iter__ and __next__. The __iter__ method returns the iterator object, and the __next__ method returns the next value from the iterator. If there are no more items to return, the __next__ method should raise the StopIteration exception.\n",
    "\n",
    "An object is considered an iterator if it can be iterated over, meaning you can traverse through all the values. Lists, dictionaries, sets, and tuples are examples of built-in objects in Python that are iterable, meaning you can loop through their elements. You can also create your own iterator object by defining the __iter__ and __next__ methods."
   ]
  },
  {
   "cell_type": "code",
   "execution_count": 2,
   "id": "1ea23aff-0297-4119-8fb7-e34aa3daef3d",
   "metadata": {},
   "outputs": [
    {
     "name": "stdout",
     "output_type": "stream",
     "text": [
      "0\n",
      "1\n",
      "4\n",
      "9\n",
      "16\n"
     ]
    }
   ],
   "source": [
    "def squares_generator(limit):\n",
    "    for i in range(limit):\n",
    "        yield i**2\n",
    "\n",
    "# Using the generator function\n",
    "gen = squares_generator(5)\n",
    "for square in gen:\n",
    "    print(square)"
   ]
  },
  {
   "cell_type": "code",
   "execution_count": 1,
   "id": "b27a43e0-b93f-42c6-a05b-b5fc70f709ad",
   "metadata": {},
   "outputs": [
    {
     "name": "stdout",
     "output_type": "stream",
     "text": [
      "2\n",
      "4\n",
      "6\n",
      "8\n",
      "10\n"
     ]
    }
   ],
   "source": [
    "lst = [2, 4, 6, 8, 10, 12, 14, 16, 18, 20]\n",
    "\n",
    "\n",
    "it = iter(lst)\n",
    "\n",
    "\n",
    "for i in range(5):\n",
    "    print(next(it))"
   ]
  },
  {
   "cell_type": "markdown",
   "id": "429dedd5-e2ca-4b53-ae7b-4842a33b439f",
   "metadata": {},
   "source": [
    "### Q4. What is a generator function in python? Why yield keyword is used? Give an example of a generator function."
   ]
  },
  {
   "cell_type": "markdown",
   "id": "c41c381b-689f-497a-9a5f-539658da4c07",
   "metadata": {},
   "source": [
    "A generator function in Python is a function that uses the yield keyword instead of return. Unlike normal functions, generator functions return a generator object that can be used to produce a sequence of values. When the generator function is called, execution is paused at the yield statement and resumed when the generator is resumed with the next method. This allows the generator to generate a sequence of values without having to store them in memory, making it more memory-efficient.\n",
    "\n",
    "The yield keyword is used to generate a value and pause the function, instead of returning the value and terminating the function. When a value is generated with yield, execution is paused and the value is returned to the caller. The next time the generator is resumed, execution resumes from where it left off and continues until the next yield statement is encountered."
   ]
  },
  {
   "cell_type": "markdown",
   "id": "f6c60b46-4140-404b-9961-433f46b32745",
   "metadata": {},
   "source": [
    "### Q5. Create a generator function for prime numbers less than 1000. Use the next() method to print the first 20 prime numbers."
   ]
  },
  {
   "cell_type": "code",
   "execution_count": 2,
   "id": "546ef18d-9e1a-45b2-a65d-7b5488fe1018",
   "metadata": {},
   "outputs": [
    {
     "name": "stdout",
     "output_type": "stream",
     "text": [
      "2\n",
      "3\n",
      "5\n",
      "7\n",
      "11\n",
      "13\n",
      "17\n",
      "19\n",
      "23\n",
      "29\n",
      "31\n",
      "37\n",
      "41\n",
      "43\n",
      "47\n",
      "53\n",
      "59\n",
      "61\n",
      "67\n",
      "71\n"
     ]
    }
   ],
   "source": [
    "def prime_numbers():\n",
    "    yield 2\n",
    "    primes = [2]\n",
    "    candidate = 3\n",
    "    while candidate < 1000:\n",
    "        is_prime = True\n",
    "        for prime in primes:\n",
    "            if candidate % prime == 0:\n",
    "                is_prime = False\n",
    "                break\n",
    "        if is_prime:\n",
    "            primes.append(candidate)\n",
    "            yield candidate\n",
    "        candidate += 2\n",
    "\n",
    "gen = prime_numbers()\n",
    "\n",
    "for i in range(20):\n",
    "    print(next(gen))\n"
   ]
  },
  {
   "cell_type": "code",
   "execution_count": null,
   "id": "c577b1c8-04cd-40f9-bce6-3f39d117f593",
   "metadata": {},
   "outputs": [],
   "source": []
  },
  {
   "cell_type": "markdown",
   "id": "530ccdb8-f8ea-439e-8124-1ce8293c2c8a",
   "metadata": {},
   "source": [
    "### Q6. Write a python program to print the first 10 Fibonacci numbers using a while loop."
   ]
  },
  {
   "cell_type": "code",
   "execution_count": 3,
   "id": "2d97ab0e-60e4-4ae8-b169-5f09f0d8ae27",
   "metadata": {},
   "outputs": [
    {
     "name": "stdout",
     "output_type": "stream",
     "text": [
      "0\n",
      "1\n",
      "1\n",
      "2\n",
      "3\n",
      "5\n",
      "8\n",
      "13\n",
      "21\n",
      "34\n"
     ]
    }
   ],
   "source": [
    "def fibonacci():\n",
    "    a, b = 0, 1\n",
    "    while True:\n",
    "        yield a\n",
    "        a, b = b, a + b\n",
    "\n",
    "# Create a generator object\n",
    "gen = fibonacci()\n",
    "\n",
    "# Use the generator to generate values\n",
    "for i in range(10):\n",
    "    print(next(gen))\n"
   ]
  },
  {
   "cell_type": "markdown",
   "id": "b3482649-6e39-4703-9d57-cc4fe2f122ec",
   "metadata": {},
   "source": [
    "### Q7. Write a List Comprehension to iterate through the given string: ‘pwskills’.Expected output: ['p', 'w', 's', 'k', 'i', 'l', 'l', 's']"
   ]
  },
  {
   "cell_type": "code",
   "execution_count": 4,
   "id": "1832a920-9a77-4849-90d5-5809884f05b3",
   "metadata": {},
   "outputs": [
    {
     "name": "stdout",
     "output_type": "stream",
     "text": [
      "['p', 'w', 's', 'k', 'i', 'l', 'l', 's']\n"
     ]
    }
   ],
   "source": [
    "string = 'pwskills'\n",
    "result = [char for char in string]\n",
    "print(result)\n"
   ]
  },
  {
   "cell_type": "markdown",
   "id": "4d3e23e5-fb76-4e74-95e0-39b68543d55e",
   "metadata": {},
   "source": [
    "### Q8. Write a python program to check whether a given number is Palindrome or not using a while loop."
   ]
  },
  {
   "cell_type": "code",
   "execution_count": 5,
   "id": "81559073-10f5-4065-a750-f543e91ecad3",
   "metadata": {},
   "outputs": [
    {
     "name": "stdin",
     "output_type": "stream",
     "text": [
      "Enter a number:  103\n"
     ]
    },
    {
     "name": "stdout",
     "output_type": "stream",
     "text": [
      "103 is not a palindrome.\n"
     ]
    }
   ],
   "source": [
    "def is_palindrome(number):\n",
    "    original = number\n",
    "    reverse = 0\n",
    "    while number > 0:\n",
    "        digit = number % 10\n",
    "        reverse = reverse * 10 + digit\n",
    "        number = number // 10\n",
    "    return original == reverse\n",
    "\n",
    "number = int(input(\"Enter a number: \"))\n",
    "if is_palindrome(number):\n",
    "    print(f\"{number} is a palindrome.\")\n",
    "else:\n",
    "    print(f\"{number} is not a palindrome.\")\n"
   ]
  },
  {
   "cell_type": "markdown",
   "id": "d6957c4f-73bb-4af9-bb4f-abb35f296134",
   "metadata": {},
   "source": [
    "### Q9. Write a code to print odd numbers from 1 to 100 using list comprehension."
   ]
  },
  {
   "cell_type": "code",
   "execution_count": 6,
   "id": "0bad6efc-451b-4e23-a7d9-67a4f1e9dd21",
   "metadata": {},
   "outputs": [
    {
     "name": "stdout",
     "output_type": "stream",
     "text": [
      "[1, 3, 5, 7, 9, 11, 13, 15, 17, 19, 21, 23, 25, 27, 29, 31, 33, 35, 37, 39, 41, 43, 45, 47, 49, 51, 53, 55, 57, 59, 61, 63, 65, 67, 69, 71, 73, 75, 77, 79, 81, 83, 85, 87, 89, 91, 93, 95, 97, 99]\n"
     ]
    }
   ],
   "source": [
    "odd_numbers = [num for num in range(1, 101) if num % 2 != 0]\n",
    "print(odd_numbers)\n"
   ]
  },
  {
   "cell_type": "code",
   "execution_count": null,
   "id": "411c9e98-d335-4539-9b9e-11fef4e1d8a6",
   "metadata": {},
   "outputs": [],
   "source": []
  }
 ],
 "metadata": {
  "kernelspec": {
   "display_name": "Python 3 (ipykernel)",
   "language": "python",
   "name": "python3"
  },
  "language_info": {
   "codemirror_mode": {
    "name": "ipython",
    "version": 3
   },
   "file_extension": ".py",
   "mimetype": "text/x-python",
   "name": "python",
   "nbconvert_exporter": "python",
   "pygments_lexer": "ipython3",
   "version": "3.10.8"
  }
 },
 "nbformat": 4,
 "nbformat_minor": 5
}
