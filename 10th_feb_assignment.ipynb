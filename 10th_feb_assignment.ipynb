{
 "cells": [
  {
   "cell_type": "markdown",
   "id": "33e8e2ff-fdd0-4bbe-8534-505fdd5d26fb",
   "metadata": {},
   "source": [
    "# 10th Feb Assignments"
   ]
  },
  {
   "cell_type": "markdown",
   "id": "700bfe95-3357-4984-ab53-6fd6c39ba288",
   "metadata": {},
   "source": [
    "### Q1. Which function is used to open a file? What are the different modes of opening a file? Explain each mode of file opening."
   ]
  },
  {
   "cell_type": "markdown",
   "id": "bfd678fd-02ec-4c2c-b3df-85be381fb0ab",
   "metadata": {},
   "source": [
    "The function used to open a file in Python is open().\n",
    "\n",
    "The different modes of opening a file are:\n",
    "\n",
    "1. 'r' (Read Mode): This mode is used to open an existing file for reading purposes. If the file doesn't exist, it will raise a FileNotFoundError.\n",
    "\n",
    "2. 'w' (Write Mode): This mode is used to open a file for writing. If the file exists, it will truncate it to zero-length. If it does not exist, a new file will be created.\n",
    "\n",
    "3. 'a' (Append Mode): This mode is used to open a file for writing in such a way that it doesn't overwrite the existing content. Instead, it appends new content to the end of the file.\n",
    "\n",
    "4. 'x' (Exclusive Creation Mode): This mode is used to open a file for exclusive creation. If the file already exists, it will raise a FileExistsError.\n",
    "\n",
    "5. 'b' (Binary Mode): This mode is used to open a file in binary mode, which is used for non-text files like images and executable files.\n",
    "\n",
    "6. 't' (Text Mode): This mode is used to open a file in text mode, which is used for text files.\n",
    "\n",
    "7. '+' (Update Mode): This mode is used to open a file for both reading and writing. It is typically used for updating a file.\n",
    "\n",
    "These modes can be combined to create more specific file opening behaviors, such as rb (read in binary mode) or w+ (write and read mode)."
   ]
  },
  {
   "cell_type": "markdown",
   "id": "db3e9b6b-7561-443b-8a5b-fe5d027da4bc",
   "metadata": {},
   "source": [
    "### Q2. Why close() function is used? Why is it important to close a file?"
   ]
  },
  {
   "cell_type": "markdown",
   "id": "28dfd66d-dd8d-4dea-84b6-b5c36e3106db",
   "metadata": {},
   "source": [
    "The close() function is used to close an open file in Python. It is important to close a file after it has been opened because it frees up system resources that were being used to keep the file open.\n",
    "\n",
    "Leaving a file open for a long time can cause system performance issues because it ties up resources that could be used by other applications or processes. Additionally, any changes made to a file while it is open may not be written to the file until it is closed, which can result in data loss or corruption if the program crashes or is interrupted before the file is closed.\n",
    "\n",
    "Closing a file also ensures that any data that was buffered in memory is written to the file, so that it is available for other programs to read. If a file is not closed, any changes made to it may not be visible to other programs until the file is closed or the system is rebooted.\n",
    "\n",
    "In summary, closing a file with the close() function is important to release system resources, ensure data integrity, and make any changes made to the file available to other programs."
   ]
  },
  {
   "cell_type": "markdown",
   "id": "6d9328a4-b9a1-45c5-9bf1-726d18e74351",
   "metadata": {},
   "source": [
    "### Q3. Write a python program to create a text file. Write ‘I want to become a Data Scientist’ in that file. Then close the file. Open this file and read the content of the file."
   ]
  },
  {
   "cell_type": "code",
   "execution_count": 3,
   "id": "955adf7e-8992-42e2-bfec-e8ddaf5965eb",
   "metadata": {},
   "outputs": [],
   "source": [
    "f = open('text1.txt', 'w')\n",
    "f.write(\"I want to become a Data Scientist\")\n",
    "f.close()"
   ]
  },
  {
   "cell_type": "code",
   "execution_count": 7,
   "id": "00e31794-8c4e-4875-97d5-4d87df3890b0",
   "metadata": {},
   "outputs": [
    {
     "name": "stdout",
     "output_type": "stream",
     "text": [
      "I want to become a Data Scientist\n"
     ]
    }
   ],
   "source": [
    "f = open('text1.txt', 'r')\n",
    "read = f.read()\n",
    "print(read)"
   ]
  },
  {
   "cell_type": "markdown",
   "id": "d73c7213-180d-49c5-89db-d60e936dcbbd",
   "metadata": {},
   "source": [
    "### Q4. Explain the following with python code: read(), readline() and readlines()."
   ]
  },
  {
   "cell_type": "markdown",
   "id": "6e3739e4-efc9-469a-8167-bd4bb0778e9a",
   "metadata": {},
   "source": [
    "In Python, there are several ways to read the content of a file. Here's a brief explanation of three commonly used methods, along with example code:\n",
    "\n",
    "read() method:\n",
    "The read() method is used to read the entire contents of a file into a single string. This method reads the entire file content into memory as a single string."
   ]
  },
  {
   "cell_type": "code",
   "execution_count": null,
   "id": "7a78d305-2921-4977-bad4-7b64e2315065",
   "metadata": {},
   "outputs": [],
   "source": [
    "with open('file.txt', 'r') as file:\n",
    "    data = file.read()\n",
    "    print(data)"
   ]
  },
  {
   "cell_type": "markdown",
   "id": "74cc2096-d4e7-4b9d-8fdf-245b74659082",
   "metadata": {},
   "source": [
    "readline() reads one line from the file at a time and returns it as a string. It moves the file pointer to the next line after each call."
   ]
  },
  {
   "cell_type": "code",
   "execution_count": null,
   "id": "c38f9bd6-0b2c-40b4-a5cb-7301dde81e83",
   "metadata": {},
   "outputs": [],
   "source": [
    "with open('file.txt', 'r') as file:\n",
    "    line1 = file.readline()\n",
    "    line2 = file.readline()\n",
    "    print(line1)\n",
    "    print(line2)"
   ]
  },
  {
   "cell_type": "markdown",
   "id": "11cef220-2bb3-4487-9b91-f57ac21eab31",
   "metadata": {},
   "source": [
    "readlines() reads all the lines from the file and returns them as a list of strings."
   ]
  },
  {
   "cell_type": "code",
   "execution_count": null,
   "id": "3e152167-baca-42f5-95c8-bf7ac95e7649",
   "metadata": {},
   "outputs": [],
   "source": [
    "with open('file.txt', 'r') as file:\n",
    "    lines = file.readlines()\n",
    "    print(lines)"
   ]
  },
  {
   "cell_type": "markdown",
   "id": "d4d9e6a9-f6bc-45f3-9f01-72ec29ad8f3d",
   "metadata": {},
   "source": [
    "### Q5. Explain why with statement is used with open(). What is the advantage of using with statement and open() together?"
   ]
  },
  {
   "cell_type": "markdown",
   "id": "a065d427-9dbf-4117-bee4-072c82ee8962",
   "metadata": {},
   "source": [
    "In Python, the with statement is used in conjunction with open() to ensure that a file is properly closed after it has been used. The advantage of using with and open() together is that it makes it easy to manage resources by providing a convenient way to automatically close the file when the code block within the with statement is exited, even if an exception is raised. This helps to avoid common errors such as forgetting to close the file or leaving it open for too long, which can lead to resource leaks, data corruption, or other issues.\n",
    "\n",
    "Here is an example of using with and open() together to read the contents of a file:"
   ]
  },
  {
   "cell_type": "code",
   "execution_count": null,
   "id": "2745bb06-70d7-44d8-abd6-5a45af77ba15",
   "metadata": {},
   "outputs": [],
   "source": [
    "with open('file.txt', 'r') as file:\n",
    "    data = file.read()\n",
    "    print(data)"
   ]
  },
  {
   "cell_type": "markdown",
   "id": "8135dfe7-3fe5-409d-be38-4229febee167",
   "metadata": {},
   "source": [
    "In this example, the file is automatically closed after the with block is executed, even if an exception is raised. This means that you don't have to explicitly call the close() method on the file object, as it is taken care of by the with statement."
   ]
  },
  {
   "cell_type": "markdown",
   "id": "c94349d7-5bc0-43ba-be64-eef9d0885969",
   "metadata": {},
   "source": [
    "### Q6. Explain the write() and writelines() functions. Give a suitable example."
   ]
  },
  {
   "cell_type": "markdown",
   "id": "f5d70afd-5e42-4e86-9c5c-b6bff7e30a4d",
   "metadata": {},
   "source": [
    "In Python, write() and writelines() are methods used to write data to a file. Here is a brief explanation and code snippet for each:\n",
    "\n",
    "write() method is used to write a single string to a file. It returns the number of characters written."
   ]
  },
  {
   "cell_type": "code",
   "execution_count": null,
   "id": "95bc2b72-548c-43b9-9462-123892080d4f",
   "metadata": {},
   "outputs": [],
   "source": [
    "with open('file.txt', 'w') as file:\n",
    "    file.write('Hello, World!\\n')\n",
    "    file.write('This is an example of write method.')\n"
   ]
  },
  {
   "cell_type": "markdown",
   "id": "725522cf-3857-4e9c-b0d1-70f4c6012f4a",
   "metadata": {},
   "source": [
    "writelines() method is used to write a list of strings to a file. It does not add any separators like new lines, so you have to add them manually if needed."
   ]
  },
  {
   "cell_type": "code",
   "execution_count": null,
   "id": "c4c7ca4c-ad3b-4f08-9974-3c64af321d7b",
   "metadata": {},
   "outputs": [],
   "source": [
    "with open('file.txt', 'w') as file:\n",
    "    lines = ['This is line 1\\n', 'This is line 2\\n', 'This is line 3\\n']\n",
    "    file.writelines(lines)\n"
   ]
  }
 ],
 "metadata": {
  "kernelspec": {
   "display_name": "Python 3 (ipykernel)",
   "language": "python",
   "name": "python3"
  },
  "language_info": {
   "codemirror_mode": {
    "name": "ipython",
    "version": 3
   },
   "file_extension": ".py",
   "mimetype": "text/x-python",
   "name": "python",
   "nbconvert_exporter": "python",
   "pygments_lexer": "ipython3",
   "version": "3.10.8"
  }
 },
 "nbformat": 4,
 "nbformat_minor": 5
}
