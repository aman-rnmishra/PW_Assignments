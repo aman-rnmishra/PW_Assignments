{
 "cells": [
  {
   "cell_type": "markdown",
   "id": "19b97373-0056-443a-906f-8088ae889233",
   "metadata": {},
   "source": [
    "# 9th Feb Assignment"
   ]
  },
  {
   "cell_type": "markdown",
   "id": "bc21b34d-508b-4d28-9c1f-b9cd224620c2",
   "metadata": {},
   "source": [
    "### Q1. Create a vehicle class with an init method having instance variables as name_of_vehicle, max_speed and average_of_vehicle."
   ]
  },
  {
   "cell_type": "code",
   "execution_count": 2,
   "id": "0b96e619-29f5-4c49-91af-c281da3c9b41",
   "metadata": {},
   "outputs": [],
   "source": [
    "class vehicle:\n",
    "    def __init__(self, name_of_vehicle, max_speed, average_of_vehicle):\n",
    "        self.name_of_vehicle = name_of_vehicle\n",
    "        self.max_speed = max_speed\n",
    "        self.average_of_vehicle = average_of_vehicle\n",
    "    def display(self):\n",
    "        print(\"Vehicle Name : \",self.name_of_vehicle)\n",
    "        print(\"Max Speed : \",self.max_speed)\n",
    "        print(\"Average of Vehicle : \",self.average_of_vehicle)"
   ]
  },
  {
   "cell_type": "markdown",
   "id": "7878141d-151a-41da-a931-e15948624e97",
   "metadata": {},
   "source": [
    "### Q2.  Create a child class car from the vehicle class created in Que 1, which will inherit the vehicle class. Create a method named seating_capacity which takes capacity as an argument and returns the name of the vehicle and its seating capacity"
   ]
  },
  {
   "cell_type": "code",
   "execution_count": 11,
   "id": "5f4e6205-129a-4dba-afa8-57cea0068669",
   "metadata": {},
   "outputs": [
    {
     "name": "stdout",
     "output_type": "stream",
     "text": [
      "Vehicle Name: Innova\n",
      "Seating Capacity: 7\n"
     ]
    }
   ],
   "source": [
    "class Car(vehicle):\n",
    "    def seating_capacity(self, capacity):\n",
    "        self.capacity = capacity\n",
    "        return \"Vehicle Name: \" + self.name_of_vehicle + \"\\nSeating Capacity: \" + str(self.capacity)\n",
    "        \n",
    "Dcar = Car(\"Innova\", 250, 10)\n",
    "print(Dcar.seating_capacity(7))"
   ]
  },
  {
   "cell_type": "markdown",
   "id": "991e5597-d811-4b19-b0f8-e39b0619a6a2",
   "metadata": {},
   "source": [
    "### Q3. What is multiple inheritance? Write a python code to demonstrate multiple inheritance."
   ]
  },
  {
   "cell_type": "markdown",
   "id": "ece73031-96d5-4552-9990-a7e4eec83ca7",
   "metadata": {},
   "source": [
    "Multiple inheritance is a feature in object-oriented programming where a class can inherit properties and behaviors from more than one parent class. This allows a class to inherit properties from multiple sources, making it a more powerful tool for modeling complex relationships."
   ]
  },
  {
   "cell_type": "code",
   "execution_count": 12,
   "id": "b2c3179f-a55c-416f-8956-558ebd63fd9c",
   "metadata": {},
   "outputs": [
    {
     "name": "stdout",
     "output_type": "stream",
     "text": [
      "I am from class A\n",
      "I am from class B\n"
     ]
    }
   ],
   "source": [
    "class A:\n",
    "    def __init__(self):\n",
    "        self.a = \"I am from class A\"\n",
    "    def display_a(self):\n",
    "        print(self.a)\n",
    "\n",
    "class B:\n",
    "    def __init__(self):\n",
    "        self.b = \"I am from class B\"\n",
    "    def display_b(self):\n",
    "        print(self.b)\n",
    "\n",
    "class C(A, B):\n",
    "    def __init__(self):\n",
    "        A.__init__(self)\n",
    "        B.__init__(self)\n",
    "\n",
    "c = C()\n",
    "c.display_a()\n",
    "c.display_b()\n"
   ]
  },
  {
   "cell_type": "markdown",
   "id": "6c1e85ee-90ec-40b2-b643-912239e30c20",
   "metadata": {},
   "source": [
    "### Q4. What are getter and setter in python? Create a class and create a getter and a setter method in this class."
   ]
  },
  {
   "cell_type": "markdown",
   "id": "7d6ca792-0271-4d46-abb5-f65c0ec1c34d",
   "metadata": {},
   "source": [
    "Getters and setters are methods in object-oriented programming that provide access to the properties of an object while encapsulating its internal representation. Getters are used to retrieve the value of a property, while setters are used to modify the value of a property.\n",
    "\n",
    "Getters and setters are often used to enforce constraints on the values of an object's properties, for example to ensure that a value falls within a certain range, or to automatically update related properties when a value is changed."
   ]
  },
  {
   "cell_type": "code",
   "execution_count": 16,
   "id": "9f44d03e-cc96-4e24-b0c0-d8e070754f24",
   "metadata": {},
   "outputs": [
    {
     "name": "stdout",
     "output_type": "stream",
     "text": [
      "20\n",
      "10\n"
     ]
    }
   ],
   "source": [
    "class Temperature:\n",
    "    def __init__(self, temperature):\n",
    "        self._temperature = temperature\n",
    "\n",
    "    @property\n",
    "    def temperature(self):\n",
    "        return self._temperature\n",
    "\n",
    "    @temperature.setter\n",
    "    def temperature(self, value):\n",
    "        if value < -273:\n",
    "            raise ValueError(\"Temperature below -273 is not possible\")\n",
    "        self._temperature = value\n",
    "\n",
    "temp = Temperature(20)\n",
    "print(temp.temperature) \n",
    "temp.temperature = 10\n",
    "print(temp.temperature)\n",
    "temp.temperature = 300 # raises ValueError: Temperature below -273 is not possible\n"
   ]
  },
  {
   "cell_type": "markdown",
   "id": "12b2028c-cdb6-4f47-bf42-bd04f4f8bf89",
   "metadata": {},
   "source": [
    "### Q5.What is method overriding in python? Write a python code to demonstrate method overriding."
   ]
  },
  {
   "cell_type": "markdown",
   "id": "0c54aa70-3a9e-4c0e-8fa2-5c677643800a",
   "metadata": {},
   "source": [
    "Method overriding is a feature in object-oriented programming that allows a subclass to provide a different implementation of a method that is already defined in its superclass. The subclass can provide its own implementation by redefining the method with the same name, parameters, and return type."
   ]
  },
  {
   "cell_type": "code",
   "execution_count": 17,
   "id": "5f7df526-814e-4ae6-9792-686988c798b1",
   "metadata": {},
   "outputs": [
    {
     "name": "stdout",
     "output_type": "stream",
     "text": [
      "Area of square: 16\n"
     ]
    }
   ],
   "source": [
    "class Shape:\n",
    "    def area(self):\n",
    "        pass\n",
    "\n",
    "class Square(Shape):\n",
    "    def __init__(self, side):\n",
    "        self.side = side\n",
    "\n",
    "    def area(self):\n",
    "        return self.side * self.side\n",
    "\n",
    "s = Square(4)\n",
    "print(\"Area of square:\", s.area())\n"
   ]
  },
  {
   "cell_type": "code",
   "execution_count": null,
   "id": "01730ee8-76ae-484d-8947-f86ea5f0c8bb",
   "metadata": {},
   "outputs": [],
   "source": []
  }
 ],
 "metadata": {
  "kernelspec": {
   "display_name": "Python 3 (ipykernel)",
   "language": "python",
   "name": "python3"
  },
  "language_info": {
   "codemirror_mode": {
    "name": "ipython",
    "version": 3
   },
   "file_extension": ".py",
   "mimetype": "text/x-python",
   "name": "python",
   "nbconvert_exporter": "python",
   "pygments_lexer": "ipython3",
   "version": "3.10.8"
  }
 },
 "nbformat": 4,
 "nbformat_minor": 5
}
