{
 "cells": [
  {
   "cell_type": "markdown",
   "id": "750585b4-3f53-4c67-8602-727ac9760c49",
   "metadata": {},
   "source": [
    "1.    Who developed python programming language?"
   ]
  },
  {
   "cell_type": "markdown",
   "id": "4c007728-2af8-4e59-9a4e-198c10d020bf",
   "metadata": {},
   "source": [
    "Sol : Python was created by Guido van Rossum in the late 1980s and was first released in 1991."
   ]
  },
  {
   "cell_type": "markdown",
   "id": "e12d450b-b186-460f-8fb0-2372ef9d6368",
   "metadata": {},
   "source": [
    "2. Which type of Programming does Python support?"
   ]
  },
  {
   "cell_type": "markdown",
   "id": "9cbde5eb-48f5-407b-bb19-4d97aaed5e14",
   "metadata": {},
   "source": [
    "Sol : Python is a multi-paradigm programming language, meaning it supports several programming paradigms including:\n",
    "\n",
    "    Object-Oriented Programming (OOP)\n",
    "    Structural Programming\n",
    "    Functional Programming."
   ]
  },
  {
   "cell_type": "markdown",
   "id": "02da3c9a-8401-42b2-8de1-ef9616fe3fef",
   "metadata": {},
   "source": [
    "3. Is Python case sensitive when dealing with indentifiers?"
   ]
  },
  {
   "cell_type": "markdown",
   "id": "07d0d73b-228a-4390-a11e-53e5a3454044",
   "metadata": {},
   "source": [
    "Sol : Yes, Python is case sensitive when dealing with identifiers."
   ]
  },
  {
   "cell_type": "markdown",
   "id": "c7286316-10ad-4203-9c1f-cfe61156be13",
   "metadata": {},
   "source": [
    "4. What is the correct extension of the Python file?"
   ]
  },
  {
   "cell_type": "markdown",
   "id": "b27d9ea6-4ffd-4684-af21-a05227db8233",
   "metadata": {},
   "source": [
    "Sol: The correct file extension for Python code is \".py\"."
   ]
  },
  {
   "cell_type": "markdown",
   "id": "0764c899-5120-4ce5-add6-0966ea9ffaca",
   "metadata": {},
   "source": [
    "5. Is Python code compiled or interpreted?"
   ]
  },
  {
   "cell_type": "markdown",
   "id": "e90065f7-d443-4ea6-87f2-cad598148e4c",
   "metadata": {},
   "source": [
    "Sol: Python code is interpreted."
   ]
  },
  {
   "cell_type": "markdown",
   "id": "86fa49e8-98a1-4f90-a0fd-dfd0aa43eab7",
   "metadata": {},
   "source": [
    "6. Name a few blocks of code used to define in Python language?"
   ]
  },
  {
   "cell_type": "markdown",
   "id": "2a864ca7-a48c-4f87-a47c-709e89c310ce",
   "metadata": {},
   "source": [
    "Sol:\n",
    "1. def - used to define a function\n",
    "2. class - used to define a class \n",
    "3. if and else - control statements\n",
    "4. for and while - looping statements"
   ]
  },
  {
   "cell_type": "markdown",
   "id": "ad6bc21a-1120-4b2c-8a9d-558cd2274ad4",
   "metadata": {},
   "source": [
    "7. State a character used to give single line comments in Python?"
   ]
  },
  {
   "cell_type": "markdown",
   "id": "652489e0-2bd7-4dc3-a199-7561a6c0996d",
   "metadata": {},
   "source": [
    "Sol: \"#\" is used to give single line comments in Python"
   ]
  },
  {
   "cell_type": "markdown",
   "id": "90e512f4-88b3-45eb-86d4-c7ef48957ef7",
   "metadata": {},
   "source": [
    "8. Mention the functions which can help us to find the version of python that we are currently working on?"
   ]
  },
  {
   "cell_type": "markdown",
   "id": "ec3f5966-34d2-4406-b878-9ad283b06d5c",
   "metadata": {},
   "source": [
    "Sol: sys.version: returns a string with information about the Python version, including the release number, build number, and compiler used.\n",
    "\n",
    "platform.python_version(): returns a string with just the version number of the Python interpreter."
   ]
  },
  {
   "cell_type": "markdown",
   "id": "4541c364-dabc-42ad-b8d1-db743cffc7ad",
   "metadata": {},
   "source": [
    "9. Python supports the creation of anonymous functions at runtime,using construct called lambda"
   ]
  },
  {
   "cell_type": "markdown",
   "id": "e8d0d8cc-d57e-4329-872e-f7563da0a25b",
   "metadata": {},
   "source": [
    "10. What does pip stands for in Python?"
   ]
  },
  {
   "cell_type": "markdown",
   "id": "ae760275-cc3e-40d3-a244-2f49f9ed1e69",
   "metadata": {},
   "source": [
    "Sol : pip stands for preferred installer program which is used to install packages in python"
   ]
  },
  {
   "cell_type": "markdown",
   "id": "f1aa0d46-a12d-4881-b328-078994f16691",
   "metadata": {},
   "source": [
    "11. Mention a few buil-in functions in python?"
   ]
  },
  {
   "cell_type": "markdown",
   "id": "9d003356-b264-41ef-8298-213614c1c9f8",
   "metadata": {},
   "source": [
    "Sol : \n",
    "1. print\n",
    "2. str\n",
    "3. int\n",
    "4. type\n",
    "5. sum\n",
    "6. range"
   ]
  },
  {
   "cell_type": "markdown",
   "id": "edc463cf-3613-4a94-a4ef-361eb776bd27",
   "metadata": {},
   "source": [
    "12. What is the maximum possible length of an identifier in Python?"
   ]
  },
  {
   "cell_type": "markdown",
   "id": "ffc6501a-7660-454a-8585-26f2412e956d",
   "metadata": {},
   "source": [
    "Sol : In Python, the highest possible length of an identifier is 79 characters."
   ]
  },
  {
   "cell_type": "markdown",
   "id": "12ae7006-aba1-4a75-b88d-153aff819b95",
   "metadata": {},
   "source": [
    "13. What are the benefits of using python?"
   ]
  },
  {
   "cell_type": "markdown",
   "id": "d48e6c0a-b496-4252-9e51-026f325ec891",
   "metadata": {},
   "source": [
    "Sol : \n",
    "    1. Easy to learn and use\n",
    "    2. Has a large community\n",
    "    3. Open source\n",
    "    4. Massive libraries\n",
    "    5. Easy integration with other programming languages"
   ]
  },
  {
   "cell_type": "markdown",
   "id": "29321e23-64db-4a56-8397-f13a1da4d820",
   "metadata": {},
   "source": [
    "14. How is memory managed in python?"
   ]
  },
  {
   "cell_type": "markdown",
   "id": "5a1cd580-5987-461b-982b-1032d33ea815",
   "metadata": {},
   "source": [
    "Sol: Memory management in Python involves a private heap containing all Python objects and data structures. The management of this private heap is ensured internally by the Python memory manager."
   ]
  },
  {
   "cell_type": "markdown",
   "id": "dfa2b74f-e162-462b-9882-31c4b7aba410",
   "metadata": {},
   "source": [
    "15. How to install Python on windows and set path variables?"
   ]
  },
  {
   "cell_type": "markdown",
   "id": "531de906-c675-4212-8076-68bc9cbd8758",
   "metadata": {},
   "source": [
    "Sol : \n",
    "To install Python on Windows, follow these steps:\n",
    "\n",
    "1. Go to the official Python website (https://www.python.org/downloads/) and download the latest version of Python for Windows.\n",
    "\n",
    "2. Run the installer and follow the instructions to complete the installation. By default, Python will be installed to the C:\\PythonXX directory (XX represents the version number).\n",
    "\n",
    "3. To set the environment variables, follow these steps:\n",
    "\n",
    "    Go to the Start menu and search for \"Environment Variables\"\n",
    "    Click on \"Edit the system environment variables\"\n",
    "    In the System Properties window, click on the \"Environment Variables\" button\n",
    "    Under \"System Variables\", scroll down and find the \"Path\" variable, then click on \"Edit\"\n",
    "    Add the path to the Python installation (e.g., C:\\PythonXX\\Scripts) to the end of the \"Variable value\" field, separating it from the   previous entry with a semicolon (;)\n",
    "    Click OK to save the changes"
   ]
  },
  {
   "cell_type": "markdown",
   "id": "f1449845-3498-49de-83a4-d4a5be18f9fe",
   "metadata": {},
   "source": [
    "16. Is indentation required in Python?"
   ]
  },
  {
   "cell_type": "markdown",
   "id": "f57c99dc-ca75-4627-94bc-cd4fe450bf8b",
   "metadata": {},
   "source": [
    "Sol : Indentation is mandatory in python to define the blocks of statements."
   ]
  },
  {
   "cell_type": "code",
   "execution_count": null,
   "id": "afcc8022-4235-4167-ab11-4e17a1eb2722",
   "metadata": {},
   "outputs": [],
   "source": []
  }
 ],
 "metadata": {
  "kernelspec": {
   "display_name": "Python 3 (ipykernel)",
   "language": "python",
   "name": "python3"
  },
  "language_info": {
   "codemirror_mode": {
    "name": "ipython",
    "version": 3
   },
   "file_extension": ".py",
   "mimetype": "text/x-python",
   "name": "python",
   "nbconvert_exporter": "python",
   "pygments_lexer": "ipython3",
   "version": "3.10.8"
  }
 },
 "nbformat": 4,
 "nbformat_minor": 5
}
