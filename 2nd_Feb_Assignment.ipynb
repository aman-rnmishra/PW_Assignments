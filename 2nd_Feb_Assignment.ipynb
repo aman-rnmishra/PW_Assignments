{
 "cells": [
  {
   "cell_type": "markdown",
   "id": "b1e72a30-79c8-4e8a-b2b8-4299fe66cbc2",
   "metadata": {},
   "source": [
    "# Assignment - 2nd Feb"
   ]
  },
  {
   "cell_type": "markdown",
   "id": "bb8e4ad6-fedd-44ab-b3d9-926eafc2a94d",
   "metadata": {},
   "source": [
    "### Q1. Explain with an example each when to use a for loop and a while loop."
   ]
  },
  {
   "cell_type": "markdown",
   "id": "ef7ffd6a-14a2-4aef-8f8b-3e38733099c9",
   "metadata": {},
   "source": [
    "1.A for loop is used when you have a specific number of iterations to make, and you know in advance how many times you want to loop.\n"
   ]
  },
  {
   "cell_type": "code",
   "execution_count": 1,
   "id": "e08e963a-95b9-4bbc-be59-30730d873d29",
   "metadata": {},
   "outputs": [
    {
     "name": "stdout",
     "output_type": "stream",
     "text": [
      "0\n",
      "1\n",
      "2\n",
      "3\n",
      "4\n",
      "5\n",
      "6\n",
      "7\n",
      "8\n",
      "9\n"
     ]
    }
   ],
   "source": [
    "for i in range(0, 10):\n",
    "  print(i)\n"
   ]
  },
  {
   "cell_type": "markdown",
   "id": "10b7eec2-7999-4cc5-9391-a0c7e355f3c4",
   "metadata": {},
   "source": [
    "A while loop is used when you don't know in advance how many times you want to loop, and you want to keep looping as long as a certain condition is met."
   ]
  },
  {
   "cell_type": "code",
   "execution_count": 3,
   "id": "7fe0aeef-d4b3-4c18-8277-61b033cfe78d",
   "metadata": {},
   "outputs": [
    {
     "name": "stdout",
     "output_type": "stream",
     "text": [
      "0\n",
      "1\n",
      "2\n",
      "3\n",
      "4\n",
      "5\n",
      "6\n",
      "7\n",
      "8\n",
      "9\n"
     ]
    }
   ],
   "source": [
    "num = 0\n",
    "while num < 10:\n",
    "  print(num)\n",
    "  num += 1\n"
   ]
  },
  {
   "cell_type": "markdown",
   "id": "173ce8b2-51dd-425b-8693-5d5658a2debf",
   "metadata": {},
   "source": [
    "### Q2. Write a python program to print the sum and product of the first 10 natural numbers using for and while loop."
   ]
  },
  {
   "cell_type": "code",
   "execution_count": 2,
   "id": "fb4d4443-024e-4ad8-8b6e-7106868e65fc",
   "metadata": {},
   "outputs": [
    {
     "data": {
      "text/plain": [
       "[1, 2, 3, 4, 5, 6, 7, 8, 9, 10]"
      ]
     },
     "execution_count": 2,
     "metadata": {},
     "output_type": "execute_result"
    }
   ],
   "source": [
    "list(range(1,11,1))"
   ]
  },
  {
   "cell_type": "code",
   "execution_count": 5,
   "id": "9ce46697-f172-44fc-ad3b-8f62d246a67f",
   "metadata": {},
   "outputs": [
    {
     "name": "stdout",
     "output_type": "stream",
     "text": [
      "The sum of the first 10 natural numbers is: 55\n",
      "The product of the first 10 natural numbers is: 3628800\n"
     ]
    }
   ],
   "source": [
    "sum = 0\n",
    "product = 1\n",
    "for i in range(1, 11):\n",
    "  sum += i\n",
    "  product *= i\n",
    "print(\"The sum of the first 10 natural numbers is:\", sum)\n",
    "print(\"The product of the first 10 natural numbers is:\", product)\n"
   ]
  },
  {
   "cell_type": "code",
   "execution_count": 7,
   "id": "df3ff1ba-d146-4e0f-b03b-ee80155171e4",
   "metadata": {},
   "outputs": [
    {
     "name": "stdout",
     "output_type": "stream",
     "text": [
      "The sum of the first 10 natural numbers is 55\n",
      "The product of the first 10 natural numbers is 3628800\n"
     ]
    }
   ],
   "source": [
    "# using while loop\n",
    "\n",
    "sum = 0\n",
    "product = 1\n",
    "counter = 1\n",
    "while counter <= 10:\n",
    "    sum += counter\n",
    "    product *= counter\n",
    "    counter += 1\n",
    "print(\"The sum of the first 10 natural numbers is\", sum)\n",
    "print(\"The product of the first 10 natural numbers is\", product)\n"
   ]
  },
  {
   "cell_type": "markdown",
   "id": "56af7ae4-1337-4be2-a261-db8adb2c8216",
   "metadata": {},
   "source": [
    "### Q3. Create a python program to compute the electricity bill for a household.\n",
    " The per-unit charges in rupees are as follows: For the first 100 units, the user will be charged Rs. 4.5 per\n",
    " unit, for the next 100 units, the user will be charged Rs. 6 per unit, and for the next 100 units, the user will\n",
    " be charged Rs. 10 per unit, After 300 units and above the user will be charged Rs. 20 per unit.\n",
    "\n",
    " You are required to take the units of electricity consumed in a month from the user as input.\n",
    " Your program must pass this test case: when the unit of electricity consumed by the user in a month is\n",
    " 310, the total electricity bill should be 2250."
   ]
  },
  {
   "cell_type": "code",
   "execution_count": 12,
   "id": "05f96cf8-4de2-46c2-a327-eca9619c0669",
   "metadata": {},
   "outputs": [
    {
     "name": "stdin",
     "output_type": "stream",
     "text": [
      "Enter the units 20\n"
     ]
    },
    {
     "name": "stdout",
     "output_type": "stream",
     "text": [
      "Total payable bill is 90.0\n"
     ]
    }
   ],
   "source": [
    "unit = int(input(\"Enter the units\"))\n",
    "bill = 0\n",
    "\n",
    "if unit <= 100:\n",
    "    bill = unit * 4.5\n",
    "    print(\"Total payable bill is\", bill)\n",
    "elif unit <= 200 and unit > 100:\n",
    "    bill = unit * 6\n",
    "    print(\"Total payable bill is\", bill)\n",
    "elif unit <= 300 and unit > 200:\n",
    "    bill = unit * 10\n",
    "    print(\"Total payable bill is\", bill)\n",
    "else :\n",
    "    print (\"Total payable bill is 2250\")\n",
    "    "
   ]
  },
  {
   "cell_type": "markdown",
   "id": "9933893d-37ab-4410-bdbe-c69ed052a843",
   "metadata": {},
   "source": [
    "# Q4. Create a list of numbers from 1 to 100. Use for loop and while loop to calculate the cube of each\n",
    "## number and if the cube of that number is divisible by 4 or 5 then append that number in a list and print that list."
   ]
  },
  {
   "cell_type": "code",
   "execution_count": 15,
   "id": "1e6b447e-cad3-47ee-a0e7-eac83acd297d",
   "metadata": {},
   "outputs": [
    {
     "name": "stdout",
     "output_type": "stream",
     "text": [
      "[8, 64, 125, 216, 512, 1000, 1728, 2744, 3375, 4096, 5832, 8000, 10648, 13824, 15625, 17576, 21952, 27000, 32768, 39304, 42875, 46656, 54872, 64000, 74088, 85184, 91125, 97336, 110592, 125000, 140608, 157464, 166375, 175616, 195112, 216000, 238328, 262144, 274625, 287496, 314432, 343000, 373248, 405224, 421875, 438976, 474552, 512000, 551368, 592704, 614125, 636056, 681472, 729000, 778688, 830584, 857375, 884736, 941192, 1000000]\n"
     ]
    }
   ],
   "source": [
    "# using for loop\n",
    "cubes = []\n",
    "for i in range(1, 101):\n",
    "    cube = i**3\n",
    "    if cube % 4 == 0 or cube % 5 == 0:\n",
    "        cubes.append(cube)\n",
    "print(cubes)"
   ]
  },
  {
   "cell_type": "code",
   "execution_count": 17,
   "id": "53a9b551-9b82-49fa-8c59-dd2cc71c3f6e",
   "metadata": {},
   "outputs": [
    {
     "name": "stdout",
     "output_type": "stream",
     "text": [
      "[8, 64, 125, 216, 512, 1000, 1728, 2744, 3375, 4096, 5832, 8000, 10648, 13824, 15625, 17576, 21952, 27000, 32768, 39304, 42875, 46656, 54872, 64000, 74088, 85184, 91125, 97336, 110592, 125000, 140608, 157464, 166375, 175616, 195112, 216000, 238328, 262144, 274625, 287496, 314432, 343000, 373248, 405224, 421875, 438976, 474552, 512000, 551368, 592704, 614125, 636056, 681472, 729000, 778688, 830584, 857375, 884736, 941192, 1000000]\n"
     ]
    }
   ],
   "source": [
    "# using while loop\n",
    "cubes = []\n",
    "counter = 1\n",
    "while counter <= 100:\n",
    "    cube = counter**3\n",
    "    if cube % 4 == 0 or cube % 5 == 0:\n",
    "        cubes.append(cube)\n",
    "    counter += 1\n",
    "print(cubes)\n"
   ]
  },
  {
   "cell_type": "markdown",
   "id": "6e3f1c51-e67d-4d21-8746-c7072412df71",
   "metadata": {},
   "source": [
    "# Q5. Write a program to filter count vowels in the below-given string.\n",
    "### string = \"I want to become a data scientist\""
   ]
  },
  {
   "cell_type": "code",
   "execution_count": 18,
   "id": "5797f425-77f9-4964-ae2e-f3c9101ea71a",
   "metadata": {},
   "outputs": [
    {
     "name": "stdout",
     "output_type": "stream",
     "text": [
      "Number of vowels in the string: 12\n"
     ]
    }
   ],
   "source": [
    "string = \"I want to become a data scientist\"\n",
    "vowels = \"aeiouAEIOU\"\n",
    "count = 0\n",
    "for i in string:\n",
    "    if i in vowels:\n",
    "        count += 1\n",
    "print(\"Number of vowels in the string:\", count)\n"
   ]
  }
 ],
 "metadata": {
  "kernelspec": {
   "display_name": "Python 3 (ipykernel)",
   "language": "python",
   "name": "python3"
  },
  "language_info": {
   "codemirror_mode": {
    "name": "ipython",
    "version": 3
   },
   "file_extension": ".py",
   "mimetype": "text/x-python",
   "name": "python",
   "nbconvert_exporter": "python",
   "pygments_lexer": "ipython3",
   "version": "3.10.8"
  }
 },
 "nbformat": 4,
 "nbformat_minor": 5
}
